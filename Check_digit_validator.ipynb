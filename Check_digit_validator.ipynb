{
  "cells": [
    {
      "cell_type": "code",
      "execution_count": 1,
      "metadata": {
        "colab": {
          "base_uri": "https://localhost:8080/"
        },
        "id": "ixcO5nPEbt-n",
        "outputId": "51ade2a9-4929-4345-fc06-b296ef242605"
      },
      "outputs": [
        {
          "name": "stdout",
          "output_type": "stream",
          "text": [
            "→ Valid ISBN-10? No\n"
          ]
        }
      ],
      "source": [
        "# ISBN-10 유효성 검사\n",
        "def validate_isbn10(isbn):\n",
        "    isbn = isbn.replace(\"-\", \"\").upper()\n",
        "    if len(isbn) != 10:\n",
        "        return False\n",
        "\n",
        "    total = 0\n",
        "    for i in range(9):\n",
        "        if not isbn[i].isdigit():\n",
        "            return False\n",
        "        total += (i + 1) * int(isbn[i])\n",
        "\n",
        "    last_char = isbn[9]\n",
        "    if last_char == 'X':\n",
        "        total += 10 * 10\n",
        "    elif last_char.isdigit():\n",
        "        total += 10 * int(last_char)\n",
        "    else:\n",
        "        return False\n",
        "\n",
        "    return total % 11 == 0\n",
        "\n",
        "isbn10 = input(\"Enter ISBN-10: \")\n",
        "print(\"→ Valid ISBN-10?\", \"Yes\" if validate_isbn10(isbn10) else \"No\")"
      ]
    },
    {
      "cell_type": "code",
      "execution_count": 2,
      "metadata": {
        "colab": {
          "base_uri": "https://localhost:8080/"
        },
        "id": "MwZyuKMcbu8J",
        "outputId": "2992a5dc-0243-4f37-be4b-5366ab4e21b9"
      },
      "outputs": [
        {
          "name": "stdout",
          "output_type": "stream",
          "text": [
            "→ Valid ISBN-13? No\n"
          ]
        }
      ],
      "source": [
        "# ISBN-13 유효성 검사\n",
        "def validate_isbn13(isbn):\n",
        "    isbn = isbn.replace(\"-\", \"\")\n",
        "    if len(isbn) != 13 or not isbn.isdigit():\n",
        "        return False\n",
        "\n",
        "    total = 0\n",
        "    for i in range(12):\n",
        "        digit = int(isbn[i])\n",
        "        total += digit if i % 2 == 0 else digit * 3\n",
        "\n",
        "    check_digit = (10 - (total % 10)) % 10\n",
        "    return check_digit == int(isbn[-1])\n",
        "\n",
        "isbn13 = input(\"Enter ISBN-13: \")\n",
        "print(\"→ Valid ISBN-13?\", \"Yes\" if validate_isbn13(isbn13) else \"No\")"
      ]
    },
    {
      "cell_type": "code",
      "execution_count": 3,
      "metadata": {
        "colab": {
          "base_uri": "https://localhost:8080/"
        },
        "id": "vxAvyclNzkKl",
        "outputId": "71b4a7dc-c003-4948-b2e3-38f12bacf942"
      },
      "outputs": [
        {
          "name": "stdout",
          "output_type": "stream",
          "text": [
            "→ Valid Credit Card? No\n"
          ]
        }
      ],
      "source": [
        "# 신용카드 유효성 검사 (Luhn 알고리즘)\n",
        "def validate_credit_card(number):\n",
        "    number = number.replace(\" \", \"\")\n",
        "    if len(number) < 12 or len(number) > 19:\n",
        "        return False\n",
        "    if not number.isdigit():\n",
        "        return False\n",
        "\n",
        "    digits = list(map(int, number[::-1]))\n",
        "    total = 0\n",
        "    for i, digit in enumerate(digits):\n",
        "        if i % 2 == 1:\n",
        "            doubled = digit * 2\n",
        "            total += doubled - 9 if doubled > 9 else doubled\n",
        "        else:\n",
        "            total += digit\n",
        "\n",
        "    return total % 10 == 0\n",
        "\n",
        "card = input(\"Enter Credit Card Number: \")\n",
        "print(\"→ Valid Credit Card?\", \"Yes\" if validate_credit_card(card) else \"No\")"
      ]
    }
  ],
  "metadata": {
    "colab": {
      "provenance": []
    },
    "kernelspec": {
      "display_name": "Python 3",
      "name": "python3"
    },
    "language_info": {
      "codemirror_mode": {
        "name": "ipython",
        "version": 3
      },
      "file_extension": ".py",
      "mimetype": "text/x-python",
      "name": "python",
      "nbconvert_exporter": "python",
      "pygments_lexer": "ipython3",
      "version": "3.13.3"
    }
  },
  "nbformat": 4,
  "nbformat_minor": 0
}
